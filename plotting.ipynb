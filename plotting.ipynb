{
 "cells": [
  {
   "cell_type": "code",
   "execution_count": 8,
   "metadata": {},
   "outputs": [],
   "source": [
    "import plotly.figure_factory as ff\n",
    "import plotly.graph_objects as go\n",
    "from datetime import datetime, timedelta\n",
    "import seaborn as sns\n",
    "import plotly.io as pio\n",
    "import pandas as pd\n",
    "import numpy as np"
   ]
  },
  {
   "cell_type": "code",
   "execution_count": 3,
   "metadata": {},
   "outputs": [],
   "source": [
    "pio.renderers.default='browser'"
   ]
  },
  {
   "cell_type": "code",
   "execution_count": 55,
   "metadata": {},
   "outputs": [],
   "source": [
    "def get_df(res_data,data):\n",
    "    df = []\n",
    "    t_cols = ['Sa 1', 'Sa 2','Sa 3', 'Sa 4', 'Sb 3', 'Sb 2', 'Sb 1']\n",
    "    t1 = data['t1']\n",
    "    for j1 in range(len(t_cols)):\n",
    "        for i in res_data.index:\n",
    "            d = {'Sa 1':'ICTrack_up_'+str(res_data.loc[i,'alloca 1']),\n",
    "            'Sa 2':'HoldYrd_up_'+str(res_data.loc[i,'alloca 2']),\n",
    "            'Sa 3':'Terminal_up_'+str(res_data.loc[i,'terminal allocated']),\n",
    "            'Sa 4':'TerLine_'+str(res_data.loc[i,'alloca 4']),\n",
    "            'Sb 3':'Terminal_dn'+str(res_data.loc[i,'terminal allocated']),\n",
    "            'Sb 2':'HoldYrd_dn_'+str(res_data.loc[i,'allocb 2']),\n",
    "            'Sb 1':'ICTrack_dn_'+str(res_data.loc[i,'allocb 1'])}    \n",
    "            j = t_cols[j1]\n",
    "            s = convert_time_format(res_data.loc[i,j])\n",
    "            if j1 == len(t_cols) - 1:\n",
    "                f = convert_time_format(res_data.loc[i,j] + data['t1'])\n",
    "            else:\n",
    "                j2 = t_cols[j1+1]\n",
    "                f = convert_time_format(res_data.loc[i,j2])\n",
    "            df.append(dict(Task=d[j],Start=s,Finish=f,Resource='Rake '+str(i+1)))\n",
    "    return df"
   ]
  },
  {
   "cell_type": "code",
   "execution_count": 56,
   "metadata": {},
   "outputs": [],
   "source": [
    "def convert_time_format(t):\n",
    "    date_string = \"2022-01-01 00:00:00\"\n",
    "    dt = datetime.fromisoformat(date_string)\n",
    "    dt = dt+timedelta(hours=t)\n",
    "    return str(dt)"
   ]
  },
  {
   "cell_type": "code",
   "execution_count": 57,
   "metadata": {},
   "outputs": [],
   "source": [
    "def get_colors(m):\n",
    "    n = len(m.index)\n",
    "    clrs = sns.color_palette('husl',n_colors=n)\n",
    "    c = dict()\n",
    "    for i in range(n):\n",
    "        c['Rake '+str(i+1)] = clrs[i]\n",
    "    return c"
   ]
  },
  {
   "cell_type": "code",
   "execution_count": 58,
   "metadata": {},
   "outputs": [],
   "source": [
    "def plot_gantt(m,d,day):\n",
    "    df = get_df(m,d)\n",
    "    colors = get_colors(m)\n",
    "    fig = ff.create_gantt(df,colors=colors,index_col='Resource',show_colorbar=True,group_tasks=True,bar_width=0.4,title='Schedule for Day '+str(day),showgrid_y=True)                   \n",
    "    #fig.update(margin=go.Layout(height=900))\n",
    "    fig.update_yaxes(automargin=True)\n",
    "    fig.show()\n",
    "    return 0"
   ]
  },
  {
   "cell_type": "code",
   "execution_count": null,
   "metadata": {},
   "outputs": [],
   "source": []
  }
 ],
 "metadata": {
  "kernelspec": {
   "display_name": "Python 3",
   "language": "python",
   "name": "python3"
  },
  "language_info": {
   "codemirror_mode": {
    "name": "ipython",
    "version": 3
   },
   "file_extension": ".py",
   "mimetype": "text/x-python",
   "name": "python",
   "nbconvert_exporter": "python",
   "pygments_lexer": "ipython3",
   "version": "3.8.5"
  }
 },
 "nbformat": 4,
 "nbformat_minor": 4
}
