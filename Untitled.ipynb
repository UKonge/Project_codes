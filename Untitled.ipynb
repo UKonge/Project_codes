{
 "cells": [
  {
   "cell_type": "code",
   "execution_count": 8,
   "metadata": {},
   "outputs": [],
   "source": [
    "import plotly.figure_factory as ff\n",
    "from datetime import datetime, timedelta\n",
    "import seaborn as sns\n",
    "import plotly.io as pio\n",
    "import pandas as pd\n",
    "import numpy as np"
   ]
  },
  {
   "cell_type": "code",
   "execution_count": 3,
   "metadata": {},
   "outputs": [],
   "source": [
    "pio.renderers.default='browser'"
   ]
  },
  {
   "cell_type": "code",
   "execution_count": 55,
   "metadata": {},
   "outputs": [],
   "source": [
    "def get_df(res_data,data):\n",
    "    df = []\n",
    "    t_cols = ['Sa 1', 'Sa 2','Sa 3', 'Sa 4', 'Sb 3', 'Sb 2', 'Sb 1']\n",
    "    t1 = data['t1']\n",
    "    for i in res_data.index:\n",
    "        d = {'Sa 1':'ICTrack_up_'+str(res_data.loc[i,'alloca 1']),\n",
    "            'Sa 2':'HoldYrd_up_'+str(res_data.loc[i,'alloca 2']),\n",
    "            'Sa 3':'Terminal_up_'+str(res_data.loc[i,'terminal allocated']),\n",
    "            'Sa 4':'TerLine_'+str(res_data.loc[i,'alloca 4']),\n",
    "            'Sb 3':'Terminal_dn'+str(res_data.loc[i,'terminal allocated']),\n",
    "            'Sb 2':'HoldYrd_dn_'+str(res_data.loc[i,'allocb 2']),\n",
    "            'Sb 1':'ICTrack_dn_'+str(res_data.loc[i,'allocb 1'])}    \n",
    "        for j1 in range(len(t_cols)):\n",
    "            j = t_cols[j1]\n",
    "            s = convert_time_format(res_data.loc[i,j])\n",
    "            if j1 == len(t_cols) - 1:\n",
    "                f = convert_time_format(res_data.loc[i,j] + data['t1'])\n",
    "            else:\n",
    "                j2 = t_cols[j1+1]\n",
    "                f = convert_time_format(res_data.loc[i,j2])\n",
    "            df.append(dict(Task=d[j],Start=s,Finish=f,Resource='Rake '+str(i+1)))\n",
    "    return df"
   ]
  },
  {
   "cell_type": "code",
   "execution_count": 56,
   "metadata": {},
   "outputs": [],
   "source": [
    "def convert_time_format(t):\n",
    "    dt = datetime.now()\n",
    "    dt = dt+timedelta(hours=t)\n",
    "    return str(dt)"
   ]
  },
  {
   "cell_type": "code",
   "execution_count": 57,
   "metadata": {},
   "outputs": [],
   "source": [
    "def get_colors(m):\n",
    "    n = len(m.index)\n",
    "    clrs = sns.color_palette('husl',n_colors=n)\n",
    "    c = dict()\n",
    "    for i in range(n):\n",
    "        c['Rake '+str(i+1)] = clrs[i]\n",
    "    return c"
   ]
  },
  {
   "cell_type": "code",
   "execution_count": 58,
   "metadata": {},
   "outputs": [],
   "source": [
    "def plot_gantt(m,d):\n",
    "    df = get_df(m,d)\n",
    "    colors = get_colors(m)\n",
    "    fig = ff.create_gantt(df,colors=colors,index_col='Resource',show_colorbar=True,group_tasks=True)\n",
    "    fig.show()\n",
    "    return 0"
   ]
  },
  {
   "cell_type": "code",
   "execution_count": 59,
   "metadata": {},
   "outputs": [
    {
     "data": {
      "text/plain": [
       "0"
      ]
     },
     "execution_count": 59,
     "metadata": {},
     "output_type": "execute_result"
    }
   ],
   "source": [
    "data = {'pendency':[],\n",
    "        'b':[],\n",
    "        'q':20.0,\n",
    "        'sys':[2,3,2,[3,3]],\n",
    "        'a':[],\n",
    "        'l':[],\n",
    "        'origin':[],\n",
    "        'R':[80,90],\n",
    "        'Pure min limit': 89,\n",
    "        'Pure max limit': 90,\n",
    "        'Loading times': [3.0,5.0],\n",
    "        'cont cost': 1.0,\n",
    "        'tau':0.25,\n",
    "        't1':0.25,\n",
    "        't2':0.5,\n",
    "        't3':0.5,\n",
    "        'c1':-150.0,\n",
    "        'c2':1.0,\n",
    "        'c3':75.0,\n",
    "        'BigM':80.0,\n",
    "        'BigM2':100.0}\n",
    "result_data_init = pd.read_csv('data/dummy_result.csv')\n",
    "d = pd.DataFrame(get_df(result_data_init,data))\n",
    "d.head(10)\n",
    "\n",
    "plot_gantt(result_data_init,data)\n",
    "\n"
   ]
  },
  {
   "cell_type": "code",
   "execution_count": 54,
   "metadata": {},
   "outputs": [
    {
     "data": {
      "text/html": [
       "<div>\n",
       "<style scoped>\n",
       "    .dataframe tbody tr th:only-of-type {\n",
       "        vertical-align: middle;\n",
       "    }\n",
       "\n",
       "    .dataframe tbody tr th {\n",
       "        vertical-align: top;\n",
       "    }\n",
       "\n",
       "    .dataframe thead th {\n",
       "        text-align: right;\n",
       "    }\n",
       "</style>\n",
       "<table border=\"1\" class=\"dataframe\">\n",
       "  <thead>\n",
       "    <tr style=\"text-align: right;\">\n",
       "      <th></th>\n",
       "      <th>Task</th>\n",
       "      <th>Start</th>\n",
       "      <th>Finish</th>\n",
       "      <th>Resource</th>\n",
       "    </tr>\n",
       "  </thead>\n",
       "  <tbody>\n",
       "    <tr>\n",
       "      <th>0</th>\n",
       "      <td>ICTrack_up_2</td>\n",
       "      <td>2022-06-09 16:50:38.247296</td>\n",
       "      <td>2022-06-09 16:50:38.247296</td>\n",
       "      <td>Rake 1</td>\n",
       "    </tr>\n",
       "    <tr>\n",
       "      <th>1</th>\n",
       "      <td>HoldYrd_up_1</td>\n",
       "      <td>2022-06-09 17:05:38.247296</td>\n",
       "      <td>2022-06-09 17:05:38.247296</td>\n",
       "      <td>Rake 1</td>\n",
       "    </tr>\n",
       "    <tr>\n",
       "      <th>2</th>\n",
       "      <td>Terminal_up_1</td>\n",
       "      <td>2022-06-09 17:35:38.247296</td>\n",
       "      <td>2022-06-09 17:35:38.247296</td>\n",
       "      <td>Rake 1</td>\n",
       "    </tr>\n",
       "    <tr>\n",
       "      <th>3</th>\n",
       "      <td>TerLine_2</td>\n",
       "      <td>2022-06-09 18:05:38.248293</td>\n",
       "      <td>2022-06-09 18:05:38.248293</td>\n",
       "      <td>Rake 1</td>\n",
       "    </tr>\n",
       "    <tr>\n",
       "      <th>4</th>\n",
       "      <td>Terminal_dn1</td>\n",
       "      <td>2022-06-09 23:05:38.248293</td>\n",
       "      <td>2022-06-09 23:05:38.248293</td>\n",
       "      <td>Rake 1</td>\n",
       "    </tr>\n",
       "    <tr>\n",
       "      <th>...</th>\n",
       "      <td>...</td>\n",
       "      <td>...</td>\n",
       "      <td>...</td>\n",
       "      <td>...</td>\n",
       "    </tr>\n",
       "    <tr>\n",
       "      <th>65</th>\n",
       "      <td>Terminal_up_2</td>\n",
       "      <td>2022-06-10 16:31:29.080965</td>\n",
       "      <td>2022-06-10 16:31:29.080965</td>\n",
       "      <td>Rake 10</td>\n",
       "    </tr>\n",
       "    <tr>\n",
       "      <th>66</th>\n",
       "      <td>TerLine_4</td>\n",
       "      <td>2022-06-10 17:01:29.080965</td>\n",
       "      <td>2022-06-10 17:01:29.080965</td>\n",
       "      <td>Rake 10</td>\n",
       "    </tr>\n",
       "    <tr>\n",
       "      <th>67</th>\n",
       "      <td>Terminal_dn2</td>\n",
       "      <td>2022-06-10 20:01:29.080965</td>\n",
       "      <td>2022-06-10 20:01:29.080965</td>\n",
       "      <td>Rake 10</td>\n",
       "    </tr>\n",
       "    <tr>\n",
       "      <th>68</th>\n",
       "      <td>HoldYrd_dn_1</td>\n",
       "      <td>2022-06-10 20:31:29.080965</td>\n",
       "      <td>2022-06-10 20:31:29.080965</td>\n",
       "      <td>Rake 10</td>\n",
       "    </tr>\n",
       "    <tr>\n",
       "      <th>69</th>\n",
       "      <td>ICTrack_dn_2</td>\n",
       "      <td>2022-06-10 21:01:29.080965</td>\n",
       "      <td>2022-06-10 21:16:29.080965</td>\n",
       "      <td>Rake 10</td>\n",
       "    </tr>\n",
       "  </tbody>\n",
       "</table>\n",
       "<p>70 rows × 4 columns</p>\n",
       "</div>"
      ],
      "text/plain": [
       "             Task                       Start                      Finish  \\\n",
       "0    ICTrack_up_2  2022-06-09 16:50:38.247296  2022-06-09 16:50:38.247296   \n",
       "1    HoldYrd_up_1  2022-06-09 17:05:38.247296  2022-06-09 17:05:38.247296   \n",
       "2   Terminal_up_1  2022-06-09 17:35:38.247296  2022-06-09 17:35:38.247296   \n",
       "3       TerLine_2  2022-06-09 18:05:38.248293  2022-06-09 18:05:38.248293   \n",
       "4    Terminal_dn1  2022-06-09 23:05:38.248293  2022-06-09 23:05:38.248293   \n",
       "..            ...                         ...                         ...   \n",
       "65  Terminal_up_2  2022-06-10 16:31:29.080965  2022-06-10 16:31:29.080965   \n",
       "66      TerLine_4  2022-06-10 17:01:29.080965  2022-06-10 17:01:29.080965   \n",
       "67   Terminal_dn2  2022-06-10 20:01:29.080965  2022-06-10 20:01:29.080965   \n",
       "68   HoldYrd_dn_1  2022-06-10 20:31:29.080965  2022-06-10 20:31:29.080965   \n",
       "69   ICTrack_dn_2  2022-06-10 21:01:29.080965  2022-06-10 21:16:29.080965   \n",
       "\n",
       "   Resource  \n",
       "0    Rake 1  \n",
       "1    Rake 1  \n",
       "2    Rake 1  \n",
       "3    Rake 1  \n",
       "4    Rake 1  \n",
       "..      ...  \n",
       "65  Rake 10  \n",
       "66  Rake 10  \n",
       "67  Rake 10  \n",
       "68  Rake 10  \n",
       "69  Rake 10  \n",
       "\n",
       "[70 rows x 4 columns]"
      ]
     },
     "execution_count": 54,
     "metadata": {},
     "output_type": "execute_result"
    }
   ],
   "source": [
    "d.head(1000)"
   ]
  },
  {
   "cell_type": "code",
   "execution_count": null,
   "metadata": {},
   "outputs": [],
   "source": []
  }
 ],
 "metadata": {
  "kernelspec": {
   "display_name": "Python 3",
   "language": "python",
   "name": "python3"
  },
  "language_info": {
   "codemirror_mode": {
    "name": "ipython",
    "version": 3
   },
   "file_extension": ".py",
   "mimetype": "text/x-python",
   "name": "python",
   "nbconvert_exporter": "python",
   "pygments_lexer": "ipython3",
   "version": "3.8.5"
  }
 },
 "nbformat": 4,
 "nbformat_minor": 4
}
